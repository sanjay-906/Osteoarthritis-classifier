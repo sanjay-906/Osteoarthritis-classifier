{
 "cells": [
  {
   "cell_type": "markdown",
   "id": "a4796909",
   "metadata": {},
   "source": [
    "## Machine Learning Internship in collaboration with Start Tech Academy"
   ]
  },
  {
   "cell_type": "markdown",
   "id": "e4706956",
   "metadata": {},
   "source": [
    "#### TASK 2: Build a Deep learning model to detect if osteoarthritis is present or not in a given knee X-ray image."
   ]
  },
  {
   "cell_type": "code",
   "execution_count": 2,
   "id": "58a537cf",
   "metadata": {},
   "outputs": [],
   "source": [
    "from tensorflow.keras.models import Sequential\n",
    "from tensorflow.keras.layers import Activation,Flatten, Dense, Dropout, Conv2D, MaxPooling2D\n",
    "import tensorflow as tf\n",
    "import numpy as np\n",
    "import matplotlib.pyplot as plt\n",
    "import os\n",
    "import cv2\n",
    "import random\n",
    "import pickle\n",
    "from tqdm import tqdm"
   ]
  },
  {
   "cell_type": "markdown",
   "id": "674b1b2c",
   "metadata": {},
   "source": [
    "NOTE: all images in the dataset is 224 X 224"
   ]
  },
  {
   "cell_type": "code",
   "execution_count": 3,
   "id": "79785aad",
   "metadata": {},
   "outputs": [],
   "source": [
    "datadir=\"D:/Deep Learning/train\"\n",
    "categories=[\"Normal\",\"Osteoarthritis\"]\n",
    "\n",
    "IMG_SIZE = 60"
   ]
  },
  {
   "cell_type": "code",
   "execution_count": 5,
   "id": "7b270f07",
   "metadata": {},
   "outputs": [
    {
     "name": "stderr",
     "output_type": "stream",
     "text": [
      "100%|███████████████████████████████████████████████████████████████████████████████| 810/810 [00:00<00:00, 827.52it/s]\n",
      "100%|█████████████████████████████████████████████████████████████████████████████| 1540/1540 [00:02<00:00, 744.88it/s]"
     ]
    },
    {
     "name": "stdout",
     "output_type": "stream",
     "text": [
      "2350\n"
     ]
    },
    {
     "name": "stderr",
     "output_type": "stream",
     "text": [
      "\n"
     ]
    }
   ],
   "source": [
    "training_data=[]\n",
    "\n",
    "def create_training_data():\n",
    "    for category in categories:  \n",
    "\n",
    "        path = os.path.join(datadir,category) \n",
    "        class_num = categories.index(category)  \n",
    "\n",
    "        for img in tqdm(os.listdir(path)):  \n",
    "            try:\n",
    "                img_array = cv2.imread(os.path.join(path,img) ,cv2.IMREAD_GRAYSCALE)  \n",
    "                new_array = cv2.resize(img_array, (IMG_SIZE, IMG_SIZE))  \n",
    "                training_data.append([new_array, class_num])  \n",
    "            except Exception as e: \n",
    "                pass\n",
    "           \n",
    "create_training_data()\n",
    "\n",
    "\n",
    "print(len(training_data))"
   ]
  },
  {
   "cell_type": "code",
   "execution_count": 6,
   "id": "31107592",
   "metadata": {},
   "outputs": [],
   "source": [
    "random.shuffle(training_data)"
   ]
  },
  {
   "cell_type": "code",
   "execution_count": 7,
   "id": "8010ce25",
   "metadata": {},
   "outputs": [
    {
     "data": {
      "text/plain": [
       "(2350,)"
      ]
     },
     "execution_count": 7,
     "metadata": {},
     "output_type": "execute_result"
    }
   ],
   "source": [
    "X=[]\n",
    "y=[]\n",
    "for features,labels in training_data:\n",
    "    X.append(features)\n",
    "    y.append(labels)\n",
    "X=np.array(X).reshape(-1,IMG_SIZE,IMG_SIZE,1)\n",
    "y=np.array(y)\n",
    "X.shape   #(2350, 60, 60, 1)\n",
    "\n",
    "y.shape  #(2350,)"
   ]
  },
  {
   "cell_type": "code",
   "execution_count": 8,
   "id": "c02f1000",
   "metadata": {},
   "outputs": [],
   "source": [
    "pickle_out=open(\"X.pickle\",\"wb\")\n",
    "pickle.dump(X,pickle_out)\n",
    "pickle_out.close()\n",
    "\n",
    "pickle_out=open(\"y.pickle\",\"wb\")\n",
    "pickle.dump(y,pickle_out)\n",
    "pickle_out.close()"
   ]
  },
  {
   "cell_type": "code",
   "execution_count": 9,
   "id": "eaeb66a0",
   "metadata": {},
   "outputs": [],
   "source": [
    "pickle_in=open(\"X.pickle\",\"rb\")\n",
    "X=pickle.load(pickle_in)"
   ]
  },
  {
   "cell_type": "code",
   "execution_count": 10,
   "id": "65d493f3",
   "metadata": {},
   "outputs": [
    {
     "data": {
      "image/png": "[encoded data removed]",
      "text/plain": [
       "<Figure size 432x288 with 1 Axes>"
      ]
     },
     "metadata": {
      "needs_background": "light"
     },
     "output_type": "display_data"
    }
   ],
   "source": [
    "plt.imshow(X[0],cmap=\"gray\") \n",
    "plt.show()"
   ]
  },
  {
   "cell_type": "code",
   "execution_count": 11,
   "id": "14834965",
   "metadata": {},
   "outputs": [
    {
     "data": {
      "text/plain": [
       "array([[[138],\n",
       "        [148],\n",
       "        [154],\n",
       "        ...,\n",
       "        [112],\n",
       "        [107],\n",
       "        [100]],\n",
       "\n",
       "       [[136],\n",
       "        [148],\n",
       "        [154],\n",
       "        ...,\n",
       "        [114],\n",
       "        [109],\n",
       "        [101]],\n",
       "\n",
       "       [[134],\n",
       "        [145],\n",
       "        [152],\n",
       "        ...,\n",
       "        [112],\n",
       "        [109],\n",
       "        [103]],\n",
       "\n",
       "       ...,\n",
       "\n",
       "       [[ 95],\n",
       "        [101],\n",
       "        [124],\n",
       "        ...,\n",
       "        [ 36],\n",
       "        [ 34],\n",
       "        [ 27]],\n",
       "\n",
       "       [[ 95],\n",
       "        [102],\n",
       "        [131],\n",
       "        ...,\n",
       "        [ 37],\n",
       "        [ 32],\n",
       "        [ 28]],\n",
       "\n",
       "       [[ 95],\n",
       "        [107],\n",
       "        [123],\n",
       "        ...,\n",
       "        [ 37],\n",
       "        [ 33],\n",
       "        [ 27]]], dtype=uint8)"
      ]
     },
     "execution_count": 11,
     "metadata": {},
     "output_type": "execute_result"
    }
   ],
   "source": [
    "X[0]"
   ]
  },
  {
   "cell_type": "code",
   "execution_count": 12,
   "id": "b2fa534c",
   "metadata": {},
   "outputs": [],
   "source": [
    "X=pickle.load(open(\"X.pickle\",\"rb\"))\n",
    "y=pickle.load(open(\"y.pickle\",\"rb\"))"
   ]
  },
  {
   "cell_type": "markdown",
   "id": "84e5b1cd",
   "metadata": {},
   "source": [
    "### Neural Network Architecture:"
   ]
  },
  {
   "cell_type": "code",
   "execution_count": 15,
   "id": "2e7c3f15",
   "metadata": {},
   "outputs": [
    {
     "name": "stdout",
     "output_type": "stream",
     "text": [
      "Epoch 1/10\n",
      "74/74 [==============================] - 9s 97ms/step - loss: 0.6497 - accuracy: 0.6519\n",
      "Epoch 2/10\n",
      "74/74 [==============================] - 7s 97ms/step - loss: 0.6459 - accuracy: 0.6553\n",
      "Epoch 3/10\n",
      "74/74 [==============================] - 7s 97ms/step - loss: 0.6457 - accuracy: 0.6553\n",
      "Epoch 4/10\n",
      "74/74 [==============================] - 7s 97ms/step - loss: 0.6460 - accuracy: 0.6553\n",
      "Epoch 5/10\n",
      "74/74 [==============================] - 7s 98ms/step - loss: 0.6454 - accuracy: 0.6553\n",
      "Epoch 6/10\n",
      "74/74 [==============================] - 7s 95ms/step - loss: 0.6453 - accuracy: 0.6553\n",
      "Epoch 7/10\n",
      "74/74 [==============================] - 7s 96ms/step - loss: 0.6452 - accuracy: 0.6553\n",
      "Epoch 8/10\n",
      "74/74 [==============================] - 7s 96ms/step - loss: 0.6448 - accuracy: 0.6553\n",
      "Epoch 9/10\n",
      "74/74 [==============================] - 8s 112ms/step - loss: 0.6447 - accuracy: 0.6553\n",
      "Epoch 10/10\n",
      "74/74 [==============================] - 9s 122ms/step - loss: 0.6460 - accuracy: 0.6553\n"
     ]
    },
    {
     "data": {
      "text/plain": [
       "<keras.callbacks.History at 0x224b0ddba60>"
      ]
     },
     "execution_count": 15,
     "metadata": {},
     "output_type": "execute_result"
    }
   ],
   "source": [
    "X=X/255.0    #normalization\n",
    "\n",
    "model=Sequential()\n",
    "model.add(Conv2D(32,(3,3), input_shape=X.shape[1:]))\n",
    "model.add(Activation(\"relu\"))\n",
    "model.add(MaxPooling2D(pool_size=(2,2)))\n",
    "\n",
    "\n",
    "model.add(Conv2D(32,(3,3)))\n",
    "model.add(Activation(\"relu\"))\n",
    "model.add(MaxPooling2D(pool_size=(2,2)))\n",
    "\n",
    "\n",
    "\n",
    "model.add(Conv2D(32,(3,3),activation='relu', padding ='same'))\n",
    "model.add(MaxPooling2D(pool_size=(2,2)))\n",
    "\n",
    "\n",
    "\n",
    "model.add(Conv2D(32,(3,3),activation='relu', padding ='same'))\n",
    "model.add(MaxPooling2D(pool_size=(2,2)))\n",
    "\n",
    "\n",
    "\n",
    "model.add(Flatten())\n",
    "model.add(Dense(32))\n",
    "model.add(Dense(32))\n",
    "\n",
    "model.add(Dense(32))\n",
    "\n",
    "\n",
    "\n",
    "model.add(Dense(1))\n",
    "model.add(Activation(\"sigmoid\"))\n",
    "\n",
    "\n",
    "#model.add(Dense(units=5,activation='softmax'))\n",
    "\n",
    "\n",
    "model.compile(loss=\"binary_crossentropy\",optimizer=\"adam\", metrics=['accuracy'])\n",
    "\n",
    "\n",
    "model.fit(X,y,batch_size=32,epochs=10)"
   ]
  },
  {
   "cell_type": "markdown",
   "id": "9ac2f40b",
   "metadata": {},
   "source": [
    "## Evaluation on Testing Dataset"
   ]
  },
  {
   "cell_type": "code",
   "execution_count": 16,
   "id": "cf55621b",
   "metadata": {},
   "outputs": [
    {
     "name": "stderr",
     "output_type": "stream",
     "text": [
      "100%|███████████████████████████████████████████████████████████████████████████████| 569/569 [00:01<00:00, 476.23it/s]\n",
      "100%|███████████████████████████████████████████████████████████████████████████████| 276/276 [00:00<00:00, 462.86it/s]"
     ]
    },
    {
     "name": "stdout",
     "output_type": "stream",
     "text": [
      "845\n"
     ]
    },
    {
     "name": "stderr",
     "output_type": "stream",
     "text": [
      "\n"
     ]
    }
   ],
   "source": [
    "datadir=\"D:/Deep Learning/test\"\n",
    "categories=[\"Normal\",\"Osteoarthritis\"]\n",
    "for i in categories:\n",
    "    path=os.path.join(datadir,i)\n",
    "    for img in os.listdir(path):\n",
    "        img_array=cv2.imread(os.path.join(path,img),cv2.IMREAD_GRAYSCALE)\n",
    "        \n",
    "        \n",
    "IMG_SIZE=60 \n",
    "new_array=cv2.resize(img_array,(IMG_SIZE,IMG_SIZE))\n",
    "\n",
    "testing_data=[]\n",
    "\n",
    "def create_testing_data():\n",
    "    for category in categories:  \n",
    "\n",
    "        path = os.path.join(datadir,category) \n",
    "        class_num = categories.index(category)  \n",
    "\n",
    "        for img in tqdm(os.listdir(path)):  \n",
    "            try:\n",
    "                img_array = cv2.imread(os.path.join(path,img) ,cv2.IMREAD_GRAYSCALE)  \n",
    "                new_array = cv2.resize(img_array, (IMG_SIZE, IMG_SIZE))  \n",
    "                testing_data.append([new_array, class_num])  \n",
    "            except Exception as e: \n",
    "                pass\n",
    "           \n",
    "create_testing_data()\n",
    "\n",
    "\n",
    "print(len(testing_data))"
   ]
  },
  {
   "cell_type": "code",
   "execution_count": 17,
   "id": "88885256",
   "metadata": {},
   "outputs": [
    {
     "name": "stdout",
     "output_type": "stream",
     "text": [
      "Epoch 1/10\n",
      "27/27 [==============================] - 3s 94ms/step - loss: 0.6675 - accuracy: 0.6189\n",
      "Epoch 2/10\n",
      "27/27 [==============================] - 3s 94ms/step - loss: 0.6334 - accuracy: 0.6769\n",
      "Epoch 3/10\n",
      "27/27 [==============================] - 2s 92ms/step - loss: 0.6224 - accuracy: 0.6651\n",
      "Epoch 4/10\n",
      "27/27 [==============================] - 2s 91ms/step - loss: 0.5946 - accuracy: 0.7018\n",
      "Epoch 5/10\n",
      "27/27 [==============================] - 2s 91ms/step - loss: 0.5795 - accuracy: 0.7089\n",
      "Epoch 6/10\n",
      "27/27 [==============================] - 2s 92ms/step - loss: 0.5578 - accuracy: 0.7219\n",
      "Epoch 7/10\n",
      "27/27 [==============================] - 2s 93ms/step - loss: 0.5537 - accuracy: 0.7160\n",
      "Epoch 8/10\n",
      "27/27 [==============================] - 2s 91ms/step - loss: 0.5352 - accuracy: 0.7456\n",
      "Epoch 9/10\n",
      "27/27 [==============================] - 2s 92ms/step - loss: 0.5161 - accuracy: 0.7527\n",
      "Epoch 10/10\n",
      "27/27 [==============================] - 2s 92ms/step - loss: 0.4766 - accuracy: 0.7645\n"
     ]
    },
    {
     "data": {
      "text/plain": [
       "<keras.callbacks.History at 0x224c428ffa0>"
      ]
     },
     "execution_count": 17,
     "metadata": {},
     "output_type": "execute_result"
    }
   ],
   "source": [
    "random.shuffle(testing_data)\n",
    "\n",
    "X_test=[]\n",
    "y_test=[]\n",
    "for features,labels in testing_data:\n",
    "    X_test.append(features)\n",
    "    y_test.append(labels)\n",
    "X_test=np.array(X_test).reshape(-1,IMG_SIZE,IMG_SIZE,1)\n",
    "y_test=np.array(y_test)\n",
    "\n",
    "X_test=X_test/255.0\n",
    "\n",
    "model.fit(X_test,y_test,epochs=10)"
   ]
  },
  {
   "cell_type": "markdown",
   "id": "0edee0d6",
   "metadata": {},
   "source": [
    "### Resuts:"
   ]
  },
  {
   "cell_type": "markdown",
   "id": "c48d0dea",
   "metadata": {},
   "source": [
    "Accuracy of the model with training data: **88.04%**<br>\n",
    "Accuracy of the model with testing data: **83.08%**"
   ]
  },
  {
   "cell_type": "code",
   "execution_count": null,
   "id": "55709112",
   "metadata": {},
   "outputs": [],
   "source": []
  }
 ],
 "metadata": {
  "kernelspec": {
   "display_name": "Python 3 (ipykernel)",
   "language": "python",
   "name": "python3"
  },
  "language_info": {
   "codemirror_mode": {
    "name": "ipython",
    "version": 3
   },
   "file_extension": ".py",
   "mimetype": "text/x-python",
   "name": "python",
   "nbconvert_exporter": "python",
   "pygments_lexer": "ipython3",
   "version": "3.9.7"
  }
 },
 "nbformat": 4,
 "nbformat_minor": 5
}
