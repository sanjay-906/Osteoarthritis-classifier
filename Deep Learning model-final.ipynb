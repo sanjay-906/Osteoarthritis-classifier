{
 "cells": [
  {
   "cell_type": "markdown",
   "id": "a4796909",
   "metadata": {},
   "source": [
    "## Machine Learning Internship in collaboration with Start Tech Academy"
   ]
  },
  {
   "cell_type": "markdown",
   "id": "e4706956",
   "metadata": {},
   "source": [
    "#### TASK 2: Build a Deep learning model to detect if osteoarthritis is present or not in a given knee X-ray image."
   ]
  },
  {
   "cell_type": "code",
   "execution_count": 1,
   "id": "58a537cf",
   "metadata": {},
   "outputs": [],
   "source": [
    "from tensorflow.keras.models import Sequential\n",
    "from tensorflow.keras.layers import Activation,Flatten, Dense, Dropout, Conv2D, MaxPooling2D\n",
    "import tensorflow as tf\n",
    "import numpy as np\n",
    "import matplotlib.pyplot as plt\n",
    "import os\n",
    "import cv2\n",
    "import random\n",
    "import pickle\n",
    "from tqdm import tqdm"
   ]
  },
  {
   "cell_type": "markdown",
   "id": "674b1b2c",
   "metadata": {},
   "source": [
    "NOTE: all images in the dataset is 224 X 224"
   ]
  },
  {
   "cell_type": "code",
   "execution_count": 3,
   "id": "79785aad",
   "metadata": {},
   "outputs": [],
   "source": [
    "datadir=\"D:/Deep Learning/train\"\n",
    "categories=[\"Normal\",\"Osteoarthritis\"]\n",
    "\n",
    "IMG_SIZE = 60"
   ]
  },
  {
   "cell_type": "code",
   "execution_count": 5,
   "id": "7b270f07",
   "metadata": {},
   "outputs": [
    {
     "name": "stderr",
     "output_type": "stream",
     "text": [
      "100%|███████████████████████████████████████████████████████████████████████████████| 810/810 [00:01<00:00, 690.15it/s]\n",
      "100%|█████████████████████████████████████████████████████████████████████████████| 1540/1540 [00:02<00:00, 735.05it/s]"
     ]
    },
    {
     "name": "stdout",
     "output_type": "stream",
     "text": [
      "2350\n"
     ]
    },
    {
     "name": "stderr",
     "output_type": "stream",
     "text": [
      "\n"
     ]
    }
   ],
   "source": [
    "training_data=[]\n",
    "\n",
    "def create_training_data():\n",
    "    for category in categories:  \n",
    "\n",
    "        path = os.path.join(datadir,category) \n",
    "        class_num = categories.index(category)  \n",
    "\n",
    "        for img in tqdm(os.listdir(path)):  \n",
    "            try:\n",
    "                img_array = cv2.imread(os.path.join(path,img) ,cv2.IMREAD_GRAYSCALE)  \n",
    "                new_array = cv2.resize(img_array, (IMG_SIZE, IMG_SIZE))  \n",
    "                training_data.append([new_array, class_num])  \n",
    "            except Exception as e: \n",
    "                pass\n",
    "           \n",
    "create_training_data()\n",
    "\n",
    "\n",
    "print(len(training_data))"
   ]
  },
  {
   "cell_type": "code",
   "execution_count": 6,
   "id": "31107592",
   "metadata": {},
   "outputs": [],
   "source": [
    "random.shuffle(training_data)"
   ]
  },
  {
   "cell_type": "code",
   "execution_count": 7,
   "id": "8010ce25",
   "metadata": {},
   "outputs": [
    {
     "data": {
      "text/plain": [
       "(2350,)"
      ]
     },
     "execution_count": 7,
     "metadata": {},
     "output_type": "execute_result"
    }
   ],
   "source": [
    "X=[]\n",
    "y=[]\n",
    "for features,labels in training_data:\n",
    "    X.append(features)\n",
    "    y.append(labels)\n",
    "X=np.array(X).reshape(-1,IMG_SIZE,IMG_SIZE,1)\n",
    "y=np.array(y)\n",
    "X.shape   #(2350, 60, 60, 1)\n",
    "\n",
    "y.shape  #(2350,)"
   ]
  },
  {
   "cell_type": "code",
   "execution_count": 8,
   "id": "c02f1000",
   "metadata": {},
   "outputs": [],
   "source": [
    "pickle_out=open(\"X.pickle\",\"wb\")\n",
    "pickle.dump(X,pickle_out)\n",
    "pickle_out.close()\n",
    "\n",
    "pickle_out=open(\"y.pickle\",\"wb\")\n",
    "pickle.dump(y,pickle_out)\n",
    "pickle_out.close()"
   ]
  },
  {
   "cell_type": "code",
   "execution_count": 9,
   "id": "eaeb66a0",
   "metadata": {},
   "outputs": [],
   "source": [
    "pickle_in=open(\"X.pickle\",\"rb\")\n",
    "X=pickle.load(pickle_in)"
   ]
  },
  {
   "cell_type": "code",
   "execution_count": 10,
   "id": "65d493f3",
   "metadata": {},
   "outputs": [
    {
     "data": {
      "image/png": "[encoded data removed]",
      "text/plain": [
       "<Figure size 432x288 with 1 Axes>"
      ]
     },
     "metadata": {
      "needs_background": "light"
     },
     "output_type": "display_data"
    }
   ],
   "source": [
    "plt.imshow(X[0],cmap=\"gray\") \n",
    "plt.show()"
   ]
  },
  {
   "cell_type": "code",
   "execution_count": 16,
   "id": "3aa3b937",
   "metadata": {},
   "outputs": [
    {
     "data": {
      "text/plain": [
       "array([[[0.58431373],\n",
       "        [0.64313725],\n",
       "        [0.69019608],\n",
       "        ...,\n",
       "        [0.25882353],\n",
       "        [0.23529412],\n",
       "        [0.21568627]],\n",
       "\n",
       "       [[0.56470588],\n",
       "        [0.6       ],\n",
       "        [0.66666667],\n",
       "        ...,\n",
       "        [0.25490196],\n",
       "        [0.23921569],\n",
       "        [0.21568627]],\n",
       "\n",
       "       [[0.54509804],\n",
       "        [0.58823529],\n",
       "        [0.62745098],\n",
       "        ...,\n",
       "        [0.25098039],\n",
       "        [0.22352941],\n",
       "        [0.20392157]],\n",
       "\n",
       "       ...,\n",
       "\n",
       "       [[0.12941176],\n",
       "        [0.16862745],\n",
       "        [0.19215686],\n",
       "        ...,\n",
       "        [0.54901961],\n",
       "        [0.5372549 ],\n",
       "        [0.44705882]],\n",
       "\n",
       "       [[0.11764706],\n",
       "        [0.17254902],\n",
       "        [0.18823529],\n",
       "        ...,\n",
       "        [0.5254902 ],\n",
       "        [0.57647059],\n",
       "        [0.37254902]],\n",
       "\n",
       "       [[0.10980392],\n",
       "        [0.17254902],\n",
       "        [0.19215686],\n",
       "        ...,\n",
       "        [0.61568627],\n",
       "        [0.46666667],\n",
       "        [0.36470588]]])"
      ]
     },
     "execution_count": 16,
     "metadata": {},
     "output_type": "execute_result"
    }
   ],
   "source": [
    "X[0]"
   ]
  },
  {
   "cell_type": "code",
   "execution_count": 11,
   "id": "b2fa534c",
   "metadata": {},
   "outputs": [],
   "source": [
    "X=pickle.load(open(\"X.pickle\",\"rb\"))\n",
    "y=pickle.load(open(\"y.pickle\",\"rb\"))"
   ]
  },
  {
   "cell_type": "markdown",
   "id": "4a835a68",
   "metadata": {},
   "source": [
    "### Neural Network Architecture:"
   ]
  },
  {
   "cell_type": "code",
   "execution_count": 12,
   "id": "2e7c3f15",
   "metadata": {},
   "outputs": [
    {
     "name": "stdout",
     "output_type": "stream",
     "text": [
      "Epoch 1/10\n",
      "74/74 [==============================] - 8s 88ms/step - loss: 0.5960 - accuracy: 0.6494\n",
      "Epoch 2/10\n",
      "74/74 [==============================] - 7s 89ms/step - loss: 0.5440 - accuracy: 0.6702\n",
      "Epoch 3/10\n",
      "74/74 [==============================] - 6s 86ms/step - loss: 0.4910 - accuracy: 0.7298\n",
      "Epoch 4/10\n",
      "74/74 [==============================] - 7s 89ms/step - loss: 0.4447 - accuracy: 0.7745\n",
      "Epoch 5/10\n",
      "74/74 [==============================] - 7s 94ms/step - loss: 0.3912 - accuracy: 0.8094\n",
      "Epoch 6/10\n",
      "74/74 [==============================] - 6s 87ms/step - loss: 0.3522 - accuracy: 0.8336\n",
      "Epoch 7/10\n",
      "74/74 [==============================] - 7s 88ms/step - loss: 0.3001 - accuracy: 0.8596\n",
      "Epoch 8/10\n",
      "74/74 [==============================] - 6s 87ms/step - loss: 0.3152 - accuracy: 0.8549\n",
      "Epoch 9/10\n",
      "74/74 [==============================] - 7s 89ms/step - loss: 0.2591 - accuracy: 0.8817\n",
      "Epoch 10/10\n",
      "74/74 [==============================] - 7s 88ms/step - loss: 0.2618 - accuracy: 0.8804\n"
     ]
    },
    {
     "data": {
      "text/plain": [
       "<keras.callbacks.History at 0x1c707c6d0a0>"
      ]
     },
     "execution_count": 12,
     "metadata": {},
     "output_type": "execute_result"
    }
   ],
   "source": [
    "X=X/255.0    #normalization\n",
    "\n",
    "model=Sequential()\n",
    "model.add(Conv2D(32,(3,3), input_shape=X.shape[1:]))\n",
    "model.add(Activation(\"relu\"))\n",
    "model.add(MaxPooling2D(pool_size=(2,2)))\n",
    "\n",
    "\n",
    "model.add(Conv2D(32,(3,3)))\n",
    "model.add(Activation(\"relu\"))\n",
    "model.add(MaxPooling2D(pool_size=(2,2)))\n",
    "\n",
    "\n",
    "model.add(Flatten())\n",
    "model.add(Dense(32))\n",
    "model.add(Dense(32))\n",
    "\n",
    "model.add(Dense(32))\n",
    "\n",
    "\n",
    "\n",
    "model.add(Dense(1))\n",
    "model.add(Activation(\"sigmoid\"))\n",
    "\n",
    "\n",
    "model.compile(loss=\"binary_crossentropy\",optimizer=\"adam\", metrics=['accuracy'])\n",
    "\n",
    "\n",
    "model.fit(X,y,batch_size=32,epochs=10)"
   ]
  },
  {
   "cell_type": "markdown",
   "id": "9ac2f40b",
   "metadata": {},
   "source": [
    "## Evaluation on Testing Dataset"
   ]
  },
  {
   "cell_type": "code",
   "execution_count": 13,
   "id": "cf55621b",
   "metadata": {},
   "outputs": [
    {
     "name": "stderr",
     "output_type": "stream",
     "text": [
      "100%|███████████████████████████████████████████████████████████████████████████████| 569/569 [00:00<00:00, 667.37it/s]\n",
      "100%|███████████████████████████████████████████████████████████████████████████████| 276/276 [00:00<00:00, 578.13it/s]"
     ]
    },
    {
     "name": "stdout",
     "output_type": "stream",
     "text": [
      "845\n"
     ]
    },
    {
     "name": "stderr",
     "output_type": "stream",
     "text": [
      "\n"
     ]
    }
   ],
   "source": [
    "datadir=\"D:/Deep Learning/test\"\n",
    "categories=[\"Normal\",\"Osteoarthritis\"]\n",
    "for i in categories:\n",
    "    path=os.path.join(datadir,i)\n",
    "    for img in os.listdir(path):\n",
    "        img_array=cv2.imread(os.path.join(path,img),cv2.IMREAD_GRAYSCALE)\n",
    "        \n",
    "        \n",
    "IMG_SIZE=60 \n",
    "new_array=cv2.resize(img_array,(IMG_SIZE,IMG_SIZE))\n",
    "\n",
    "testing_data=[]\n",
    "\n",
    "def create_testing_data():\n",
    "    for category in categories:  \n",
    "\n",
    "        path = os.path.join(datadir,category) \n",
    "        class_num = categories.index(category)  \n",
    "\n",
    "        for img in tqdm(os.listdir(path)):  \n",
    "            try:\n",
    "                img_array = cv2.imread(os.path.join(path,img) ,cv2.IMREAD_GRAYSCALE)  \n",
    "                new_array = cv2.resize(img_array, (IMG_SIZE, IMG_SIZE))  \n",
    "                testing_data.append([new_array, class_num])  \n",
    "            except Exception as e: \n",
    "                pass\n",
    "           \n",
    "create_testing_data()\n",
    "\n",
    "\n",
    "print(len(testing_data))"
   ]
  },
  {
   "cell_type": "code",
   "execution_count": 15,
   "id": "88885256",
   "metadata": {},
   "outputs": [
    {
     "name": "stdout",
     "output_type": "stream",
     "text": [
      "Epoch 1/10\n",
      "27/27 [==============================] - 2s 86ms/step - loss: 0.5159 - accuracy: 0.7314\n",
      "Epoch 2/10\n",
      "27/27 [==============================] - 2s 84ms/step - loss: 0.4806 - accuracy: 0.7444\n",
      "Epoch 3/10\n",
      "27/27 [==============================] - 2s 84ms/step - loss: 0.4564 - accuracy: 0.7822\n",
      "Epoch 4/10\n",
      "27/27 [==============================] - 2s 84ms/step - loss: 0.4554 - accuracy: 0.7870\n",
      "Epoch 5/10\n",
      "27/27 [==============================] - 2s 90ms/step - loss: 0.4767 - accuracy: 0.7586\n",
      "Epoch 6/10\n",
      "27/27 [==============================] - 2s 85ms/step - loss: 0.4132 - accuracy: 0.8107\n",
      "Epoch 7/10\n",
      "27/27 [==============================] - 2s 85ms/step - loss: 0.4787 - accuracy: 0.7609\n",
      "Epoch 8/10\n",
      "27/27 [==============================] - 2s 87ms/step - loss: 0.4073 - accuracy: 0.8189\n",
      "Epoch 9/10\n",
      "27/27 [==============================] - 2s 87ms/step - loss: 0.3974 - accuracy: 0.8355\n",
      "Epoch 10/10\n",
      "27/27 [==============================] - 2s 88ms/step - loss: 0.3866 - accuracy: 0.8308\n"
     ]
    },
    {
     "data": {
      "text/plain": [
       "<keras.callbacks.History at 0x1c70810cd90>"
      ]
     },
     "execution_count": 15,
     "metadata": {},
     "output_type": "execute_result"
    }
   ],
   "source": [
    "random.shuffle(testing_data)\n",
    "\n",
    "X_test=[]\n",
    "y_test=[]\n",
    "for features,labels in testing_data:\n",
    "    X_test.append(features)\n",
    "    y_test.append(labels)\n",
    "X_test=np.array(X_test).reshape(-1,IMG_SIZE,IMG_SIZE,1)\n",
    "y_test=np.array(y_test)\n",
    "\n",
    "X_test=X_test/255.0\n",
    "\n",
    "model.fit(X_test,y_test,epochs=10)"
   ]
  },
  {
   "cell_type": "markdown",
   "id": "eb769f03",
   "metadata": {},
   "source": [
    "### Resuts:"
   ]
  },
  {
   "cell_type": "markdown",
   "id": "af41ee95",
   "metadata": {},
   "source": [
    "Accuracy of the model with training data: **88.04%**<br>\n",
    "Accuracy of the model with testing data: **83.08%**"
   ]
  },
  {
   "cell_type": "code",
   "execution_count": null,
   "id": "99b7a672",
   "metadata": {},
   "outputs": [],
   "source": []
  }
 ],
 "metadata": {
  "kernelspec": {
   "display_name": "Python 3 (ipykernel)",
   "language": "python",
   "name": "python3"
  },
  "language_info": {
   "codemirror_mode": {
    "name": "ipython",
    "version": 3
   },
   "file_extension": ".py",
   "mimetype": "text/x-python",
   "name": "python",
   "nbconvert_exporter": "python",
   "pygments_lexer": "ipython3",
   "version": "3.9.7"
  }
 },
 "nbformat": 4,
 "nbformat_minor": 5
}
